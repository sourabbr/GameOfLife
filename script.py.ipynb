{
 "cells": [
  {
   "cell_type": "code",
   "execution_count": 11,
   "id": "e40cbcd7",
   "metadata": {},
   "outputs": [],
   "source": [
    "import numpy as np"
   ]
  },
  {
   "cell_type": "code",
   "execution_count": 15,
   "id": "83ce666b",
   "metadata": {},
   "outputs": [],
   "source": [
    "X = np.zeros((840, 840))\n",
    "X[2:4, 1:3] = 1\n",
    "# X[1:4, 5:9] = [[0, 1, 1, 0],\n",
    "#                [1, 0, 0, 1],\n",
    "#                [0, 1, 1, 0]]\n",
    "# X[1:5, 11:15] = [[0, 1, 1, 0],\n",
    "#                  [1, 0, 0, 1],\n",
    "#                  [0, 1, 0, 1],\n",
    "#                  [0, 0, 1, 0]]\n",
    "# X[1:4, 17:20] = [[1, 1, 0],\n",
    "#                  [1, 0, 1],\n",
    "#                  [0, 1, 0]]"
   ]
  },
  {
   "cell_type": "code",
   "execution_count": 16,
   "id": "7ace0e42",
   "metadata": {},
   "outputs": [],
   "source": [
    "file_path = 'output.txt'\n",
    "np.savetxt(file_path, X.flatten(), fmt='%d', newline= ' ')"
   ]
  },
  {
   "cell_type": "code",
   "execution_count": 19,
   "id": "1ae89c40",
   "metadata": {},
   "outputs": [],
   "source": [
    "file_path = 'output.txt'\n",
    "\n",
    "# Read the content of the file\n",
    "with open(file_path, 'r') as file:\n",
    "    content = file.read()\n",
    "\n",
    "# Remove whitespace from the content\n",
    "content_without_whitespace = ''.join(content.split())\n",
    "\n",
    "# Write the modified content back to the file\n",
    "with open(file_path, 'w') as file:\n",
    "    file.write(content_without_whitespace)"
   ]
  },
  {
   "cell_type": "code",
   "execution_count": null,
   "id": "82bfbed6",
   "metadata": {},
   "outputs": [],
   "source": []
  }
 ],
 "metadata": {
  "kernelspec": {
   "display_name": "Python 3 (ipykernel)",
   "language": "python",
   "name": "python3"
  },
  "language_info": {
   "codemirror_mode": {
    "name": "ipython",
    "version": 3
   },
   "file_extension": ".py",
   "mimetype": "text/x-python",
   "name": "python",
   "nbconvert_exporter": "python",
   "pygments_lexer": "ipython3",
   "version": "3.9.12"
  }
 },
 "nbformat": 4,
 "nbformat_minor": 5
}
