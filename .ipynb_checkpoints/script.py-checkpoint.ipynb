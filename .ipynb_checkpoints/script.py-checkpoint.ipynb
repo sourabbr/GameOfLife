{
 "cells": [
  {
   "cell_type": "code",
   "execution_count": 4,
   "id": "1b7b00dc",
   "metadata": {},
   "outputs": [],
   "source": [
    "import numpy as np"
   ]
  },
  {
   "cell_type": "code",
   "execution_count": 5,
   "id": "f090669e",
   "metadata": {},
   "outputs": [],
   "source": [
    "X = np.zeros((840, 840))\n",
    "X[2:4, 1:3] = 1\n",
    "X[1:4, 5:9] = [[0, 1, 1, 0],\n",
    "               [1, 0, 0, 1],\n",
    "               [0, 1, 1, 0]]\n",
    "X[1:5, 11:15] = [[0, 1, 1, 0],\n",
    "                 [1, 0, 0, 1],\n",
    "                 [0, 1, 0, 1],\n",
    "                 [0, 0, 1, 0]]\n",
    "X[1:4, 17:20] = [[1, 1, 0],\n",
    "                 [1, 0, 1],\n",
    "                 [0, 1, 0]]"
   ]
  },
  {
   "cell_type": "code",
   "execution_count": 10,
   "id": "b71b344d",
   "metadata": {},
   "outputs": [],
   "source": [
    "file_path = 'output.txt'\n",
    "np.savetxt(file_path, X.flatten(), fmt='%d', newline= ' ')"
   ]
  },
  {
   "cell_type": "code",
   "execution_count": null,
   "id": "2c928ad9",
   "metadata": {},
   "outputs": [],
   "source": [
    "with open('output.txt', 'r') as f:\n",
    "    lines = f.readlines()"
   ]
  }
 ],
 "metadata": {
  "kernelspec": {
   "display_name": "Python 3 (ipykernel)",
   "language": "python",
   "name": "python3"
  },
  "language_info": {
   "codemirror_mode": {
    "name": "ipython",
    "version": 3
   },
   "file_extension": ".py",
   "mimetype": "text/x-python",
   "name": "python",
   "nbconvert_exporter": "python",
   "pygments_lexer": "ipython3",
   "version": "3.9.12"
  }
 },
 "nbformat": 4,
 "nbformat_minor": 5
}
